{
 "cells": [
  {
   "cell_type": "code",
   "execution_count": 2,
   "id": "89cb5dad",
   "metadata": {},
   "outputs": [
    {
     "name": "stdout",
     "output_type": "stream",
     "text": [
      "                                               text  rating           time  \\\n",
      "0                      Love there korean rice cake.       5  1609909927056   \n",
      "1                                    Good very good       5  1612849648663   \n",
      "2  They make Korean traditional food very properly.       4  1583643882296   \n",
      "3                    Short ribs are very delicious.       5  1551938216355   \n",
      "4      Great food and prices the portions are large       5  1494910901933   \n",
      "\n",
      "                 user_id                                gmap_id  \\\n",
      "0  108991152262655788985  0x80c2c778e3b73d33:0xbdc58662a4a97d49   \n",
      "1  111290322219796215751  0x80c2c778e3b73d33:0xbdc58662a4a97d49   \n",
      "2  112640357449611959087  0x80c2c778e3b73d33:0xbdc58662a4a97d49   \n",
      "3  117440349723823658676  0x80c2c778e3b73d33:0xbdc58662a4a97d49   \n",
      "4  100580770836123539210  0x80c2c778e3b73d33:0xbdc58662a4a97d49   \n",
      "\n",
      "                category description  avg_rating  num_of_reviews  \n",
      "0  ['Korean restaurant']         NaN         4.4              18  \n",
      "1  ['Korean restaurant']         NaN         4.4              18  \n",
      "2  ['Korean restaurant']         NaN         4.4              18  \n",
      "3  ['Korean restaurant']         NaN         4.4              18  \n",
      "4  ['Korean restaurant']         NaN         4.4              18  \n",
      "<class 'pandas.core.frame.DataFrame'>\n",
      "RangeIndex: 23258034 entries, 0 to 23258033\n",
      "Data columns (total 9 columns):\n",
      " #   Column          Dtype  \n",
      "---  ------          -----  \n",
      " 0   text            object \n",
      " 1   rating          int64  \n",
      " 2   time            int64  \n",
      " 3   user_id         object \n",
      " 4   gmap_id         object \n",
      " 5   category        object \n",
      " 6   description     object \n",
      " 7   avg_rating      float64\n",
      " 8   num_of_reviews  int64  \n",
      "dtypes: float64(1), int64(3), object(5)\n",
      "memory usage: 1.6+ GB\n",
      "None\n"
     ]
    }
   ],
   "source": [
    "import pandas as pd\n",
    "import seaborn as sns\n",
    "import matplotlib.pyplot as plt\n",
    "\n",
    "# Load the cleaned and merged dataset\n",
    "df = pd.read_csv('../data/california_reviews_merged.csv')\n",
    "print(df.head())\n",
    "print(df.info())"
   ]
  },
  {
   "cell_type": "code",
   "execution_count": 7,
   "id": "f84e4d94",
   "metadata": {},
   "outputs": [
    {
     "name": "stdout",
     "output_type": "stream",
     "text": [
      "count    2.325803e+07\n",
      "mean     1.159778e+02\n",
      "std      1.739811e+02\n",
      "min      1.000000e+00\n",
      "25%      2.900000e+01\n",
      "50%      6.200000e+01\n",
      "75%      1.340000e+02\n",
      "max      1.305700e+04\n",
      "Name: review_length, dtype: float64\n",
      "0.50     62.0\n",
      "0.75    134.0\n",
      "0.90    267.0\n",
      "0.95    394.0\n",
      "0.99    810.0\n",
      "Name: review_length, dtype: float64\n"
     ]
    }
   ],
   "source": [
    "# Create the review length column if you haven't already\n",
    "df['review_length'] = df['text'].astype(str).apply(len)\n",
    "\n",
    "# Print a statistical summary\n",
    "print(df['review_length'].describe())\n",
    "\n",
    "# Get specific percentiles for a detailed look\n",
    "print(df['review_length'].quantile([0.5, 0.75, 0.9, 0.95, 0.99]))"
   ]
  },
  {
   "cell_type": "markdown",
   "id": "76f8fe7b",
   "metadata": {},
   "source": [
    "The above analysis shows that there are around 23 million reviews that are being screen after the initial data cleansing. There is a mean of 116 words per review and a median of 62 characters which is a huge disparity and a skew rightwards where there is even a review with 13000 characters! And the smallest review being a singular character which is likely to one to sieve out and throw. 99% of reviews are lesser than 810 characters which could be used as a cutoff and we can zoom in on the remaining 1% where you may get rants, long paragraphs to commend businesses."
   ]
  },
  {
   "cell_type": "code",
   "execution_count": 8,
   "id": "e4fc0211",
   "metadata": {},
   "outputs": [
    {
     "data": {
      "image/png": "[encoded data removed]",
      "text/plain": [
       "<Figure size 640x480 with 1 Axes>"
      ]
     },
     "metadata": {},
     "output_type": "display_data"
    }
   ],
   "source": [
    "import seaborn as sns\n",
    "import matplotlib.pyplot as plt\n",
    "\n",
    "sns.histplot(data=df, x='review_length', bins=100) # Use more bins for detail\n",
    "plt.yscale('log') # This is the key change\n",
    "plt.title('Distribution of Review Lengths (Log Scale)')\n",
    "plt.xlabel('Review Length (Characters)')\n",
    "plt.ylabel('Number of Reviews (Log Scale)')\n",
    "plt.show()"
   ]
  },
  {
   "cell_type": "code",
   "execution_count": 9,
   "id": "c6195043",
   "metadata": {},
   "outputs": [
    {
     "name": "stdout",
     "output_type": "stream",
     "text": [
      "Found 3442 reviews containing URLs.\n",
      "Found 87220 potentially irrelevant reviews.\n"
     ]
    }
   ],
   "source": [
    "# Create a list of keywords for different types of violations\n",
    "spam_keywords = ['http', 'www', 'promo code', 'discount', 'free', 'buy now']\n",
    "irrelevant_keywords = ['covid', 'political', 'unrelated']\n",
    "rant_keywords = ['never again', 'worst', 'disgusting']\n",
    "\n",
    "# Find reviews with URLs, as they are often ads\n",
    "url_violations = df[df['text'].str.contains('http|www', case=False, na=False)]\n",
    "print(f\"Found {len(url_violations)} reviews containing URLs.\")\n",
    "\n",
    "# Find reviews that might be irrelevant based on keywords\n",
    "irrelevant_violations = df[df['text'].str.contains('|'.join(irrelevant_keywords), case=False, na=False)]\n",
    "print(f\"Found {len(irrelevant_violations)} potentially irrelevant reviews.\")"
   ]
  },
  {
   "cell_type": "code",
   "execution_count": 1,
   "id": "29a4b9ee",
   "metadata": {},
   "outputs": [
    {
     "name": "stdout",
     "output_type": "stream",
     "text": [
      "                                                       text  rating  \\\n",
      "21846619  (Translated by Google) The hotel's opinions di...       5   \n",
      "7521386   Horrible service workers don't understand Engl...       1   \n",
      "14393094  Nice and cozy restaurant on waterfront in Emer...       4   \n",
      "20876376  Always a great stop when in San Diego. Good be...       4   \n",
      "6522288   I really love this place, there's a little bit...       4   \n",
      "\n",
      "                   time                user_id  \\\n",
      "21846619  1472111839710  116708365147224152633   \n",
      "7521386   1603140146100  104562753902608823661   \n",
      "14393094  1520363077147  108410337729259732061   \n",
      "20876376  1488320950625  106206787116116204101   \n",
      "6522288   1573267981431  105936603351273890202   \n",
      "\n",
      "                                        gmap_id  \\\n",
      "21846619  0x80c2b12ae53c5d3f:0x9c3589c1951fc19f   \n",
      "7521386   0x80dd2d11c50874dd:0x9d1ee9a945f5844d   \n",
      "14393094  0x80857e507fb91ef5:0x9809ca65b46daa36   \n",
      "20876376  0x80d9535a3ebb533d:0xe4f887714fe0b89d   \n",
      "6522288   0x80d954a73d8cabe7:0xffda33e7e073ec1e   \n",
      "\n",
      "                                                   category  \\\n",
      "21846619                                          ['Hotel']   \n",
      "7521386   ['Dollar store', 'Craft store', 'Discount stor...   \n",
      "14393094                             ['Mexican restaurant']   \n",
      "20876376                     ['American restaurant', 'Bar']   \n",
      "6522288                                  ['Discount store']   \n",
      "\n",
      "                                                description  avg_rating  \\\n",
      "21846619  Contemporary airport hotel with free shuttles,...         4.3   \n",
      "7521386   Chain offering an eclectic mix of household it...         4.1   \n",
      "14393094  Lively, informal Mexican chain with a colorful...         3.7   \n",
      "20876376  A rotating menu of craft beers paired with New...         4.3   \n",
      "6522288                                                 NaN         4.2   \n",
      "\n",
      "          num_of_reviews  is_problematic  \n",
      "21846619            2688               1  \n",
      "7521386               98               1  \n",
      "14393094            1878               1  \n",
      "20876376            1728               1  \n",
      "6522288              298               1  \n"
     ]
    }
   ],
   "source": [
    "import pandas as pd\n",
    "import numpy as np\n",
    "\n",
    "# Load your merged data\n",
    "df = pd.read_csv('../data/california_reviews_merged.csv')\n",
    "\n",
    "# --- Keyword Search for Policy Violations ---\n",
    "\n",
    "# Create a master list of keywords to search for\n",
    "# 'r' denotes a raw string to handle backslashes correctly in regex\n",
    "# '|' acts as an 'OR' operator\n",
    "spam_and_ads_patterns = r'http|www|promo code|discount|free|buy now|offer'\n",
    "irrelevant_content_patterns = r'covid|political|unrelated|wrong business'\n",
    "rant_patterns = r'never again|worst|horrible|disgusting|ripoff|scam'\n",
    "\n",
    "# Create boolean masks for each type of violation\n",
    "is_spam_or_ad = df['text'].str.contains(spam_and_ads_patterns, case=False, na=False)\n",
    "is_irrelevant = df['text'].str.contains(irrelevant_content_patterns, case=False, na=False)\n",
    "is_rant = df['text'].str.contains(rant_patterns, case=False, na=False)\n",
    "\n",
    "# --- Use these boolean masks to create your labeled dataset ---\n",
    "\n",
    "# Step 1: Create your labeled subset of data\n",
    "labeled_df = df.sample(n=20000, random_state=42).copy()\n",
    "\n",
    "# Step 2: Initialize a new column to store your labels\n",
    "labeled_df['is_problematic'] = 0\n",
    "\n",
    "# Step 3: Use the masks to automatically label reviews.\n",
    "# This makes your manual labeling much easier.\n",
    "\n",
    "# Label ads/spam as problematic\n",
    "labeled_df.loc[labeled_df['text'].str.contains(spam_and_ads_patterns, case=False, na=False), 'is_problematic'] = 1\n",
    "\n",
    "# Label rants/irrelevant as problematic\n",
    "labeled_df.loc[labeled_df['text'].str.contains(irrelevant_content_patterns, case=False, na=False), 'is_problematic'] = 1\n",
    "labeled_df.loc[labeled_df['text'].str.contains(rant_patterns, case=False, na=False), 'is_problematic'] = 1\n",
    "\n",
    "# Step 4: Manually review the automatically labeled data to ensure accuracy\n",
    "# Print a few to check\n",
    "print(labeled_df[labeled_df['is_problematic'] == 1].head())\n",
    "\n",
    "# Save your final labeled dataset\n",
    "labeled_df.to_csv('../data/labeled_reviews.csv', index=False)"
   ]
  },
  {
   "cell_type": "code",
   "execution_count": 4,
   "id": "5a7ddfa5",
   "metadata": {},
   "outputs": [
    {
     "data": {
      "image/png": "[encoded data removed]",
      "text/plain": [
       "<Figure size 640x480 with 1 Axes>"
      ]
     },
     "metadata": {},
     "output_type": "display_data"
    }
   ],
   "source": [
    "import pandas as pd\n",
    "import matplotlib.pyplot as plt\n",
    "import seaborn as sns\n",
    "\n",
    "# Load your labeled data, if you haven't already\n",
    "labeled_df = pd.read_csv('../data/labeled_reviews.csv')\n",
    "\n",
    "# --- Count the types of violations ---\n",
    "# Create a temporary column to flag each type of violation\n",
    "labeled_df['is_spam'] = labeled_df['text'].str.contains('http|www|promo|free', case=False, na=False)\n",
    "labeled_df['is_rant'] = labeled_df['text'].str.contains('worst|never again|disgusting', case=False, na=False)\n",
    "labeled_df['is_irrelevant'] = labeled_df['text'].str.contains('covid|political', case=False, na=False)\n",
    "\n",
    "# Count the number of reviews in each category\n",
    "violation_counts = {\n",
    "    'Spam/Ads': labeled_df['is_spam'].sum(),\n",
    "    'Rants': labeled_df['is_rant'].sum(),\n",
    "    'Irrelevant Content': labeled_df['is_irrelevant'].sum()\n",
    "}\n",
    "\n",
    "# Convert to a DataFrame for plotting\n",
    "counts_df = pd.DataFrame(violation_counts.items(), columns=['Violation Type', 'Count'])\n",
    "\n",
    "# --- Create a bar chart ---\n",
    "sns.barplot(data=counts_df, x='Violation Type', y='Count')\n",
    "plt.title('Count of Identified Policy Violations')\n",
    "plt.ylabel('Number of Reviews')\n",
    "plt.xlabel('Violation Type')\n",
    "plt.show()"
   ]
  },
  {
   "cell_type": "markdown",
   "id": "44aee30f",
   "metadata": {},
   "source": [
    "This shows that the initial dataset of 20000 reviews chosen was quite skewed as only about 2.5% of the data where flagged as '1' or as problematic so its a highly imbalanced set and could explain the baseline model's recall being so low for the problematic reviews."
   ]
  }
 ],
 "metadata": {
  "kernelspec": {
   "display_name": "venv (3.11.9)",
   "language": "python",
   "name": "python3"
  },
  "language_info": {
   "codemirror_mode": {
    "name": "ipython",
    "version": 3
   },
   "file_extension": ".py",
   "mimetype": "text/x-python",
   "name": "python",
   "nbconvert_exporter": "python",
   "pygments_lexer": "ipython3",
   "version": "3.11.9"
  }
 },
 "nbformat": 4,
 "nbformat_minor": 5
}
